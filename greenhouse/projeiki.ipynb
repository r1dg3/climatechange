{
 "cells": [
  {
   "cell_type": "code",
   "execution_count": 23,
   "id": "123a6e0c",
   "metadata": {},
   "outputs": [],
   "source": [
    "import seaborn as sns\n",
    "import pandas as pd\n",
    "import matplotlib.pyplot as plt\n",
    "import numpy as np \n",
    "import warnings\n",
    "warnings.filterwarnings('ignore')\n",
    "from scipy.spatial.distance import cdist, pdist"
   ]
  },
  {
   "cell_type": "code",
   "execution_count": 3,
   "id": "6fd8597c",
   "metadata": {},
   "outputs": [],
   "source": [
    "gh=pd.read_csv(\"climate_change.csv\")"
   ]
  },
  {
   "cell_type": "code",
   "execution_count": 4,
   "id": "1dd45ef5",
   "metadata": {},
   "outputs": [],
   "source": [
    "from sklearn.preprocessing import StandardScaler"
   ]
  },
  {
   "cell_type": "code",
   "execution_count": 5,
   "id": "770a77f4",
   "metadata": {},
   "outputs": [
    {
     "data": {
      "text/plain": [
       "StandardScaler()"
      ]
     },
     "execution_count": 5,
     "metadata": {},
     "output_type": "execute_result"
    }
   ],
   "source": [
    "scaler=StandardScaler()\n",
    "scaler.fit(gh)"
   ]
  },
  {
   "cell_type": "code",
   "execution_count": 6,
   "id": "25ebb27d",
   "metadata": {},
   "outputs": [
    {
     "data": {
      "text/plain": [
       "array([[-1.70855544, -0.45093617,  2.43534589, ...,  0.07930841,\n",
       "         2.40128134, -0.82649309],\n",
       "       [-1.70855544, -0.16037479,  2.01992275, ...,  0.12542829,\n",
       "         2.16336977, -0.77615718],\n",
       "       [-1.70855544,  0.13018659,  1.56498635, ...,  0.53699806,\n",
       "         1.94614617, -0.66989249],\n",
       "       ...,\n",
       "       [ 1.66474632,  1.00187074, -1.12725465, ..., -0.98972024,\n",
       "        -0.41572953,  1.02474974],\n",
       "       [ 1.66474632,  1.29243213, -0.95745444, ..., -0.91302089,\n",
       "        -0.40883354,  0.76747732],\n",
       "       [ 1.66474632,  1.58299351, -1.0055111 , ..., -0.94786144,\n",
       "        -0.41572953,  0.40953309]])"
      ]
     },
     "execution_count": 6,
     "metadata": {},
     "output_type": "execute_result"
    }
   ],
   "source": [
    "scaled_data=scaler.transform(gh)\n",
    "scaled_data\n",
    "#standart deviation as 1 and mean is 0"
   ]
  },
  {
   "cell_type": "code",
   "execution_count": 7,
   "id": "7fd5687e",
   "metadata": {},
   "outputs": [],
   "source": [
    "from sklearn.decomposition import PCA"
   ]
  },
  {
   "cell_type": "code",
   "execution_count": 8,
   "id": "876565d1",
   "metadata": {},
   "outputs": [],
   "source": [
    "pca=PCA(n_components=2)"
   ]
  },
  {
   "cell_type": "code",
   "execution_count": 9,
   "id": "a2c09e87",
   "metadata": {},
   "outputs": [
    {
     "data": {
      "text/plain": [
       "PCA(n_components=2)"
      ]
     },
     "execution_count": 9,
     "metadata": {},
     "output_type": "execute_result"
    }
   ],
   "source": [
    "pca.fit(scaled_data)"
   ]
  },
  {
   "cell_type": "code",
   "execution_count": 10,
   "id": "0b1293c4",
   "metadata": {},
   "outputs": [],
   "source": [
    "x_pca=pca.transform(scaled_data)"
   ]
  },
  {
   "cell_type": "code",
   "execution_count": 11,
   "id": "83eb1784",
   "metadata": {},
   "outputs": [
    {
     "data": {
      "text/plain": [
       "(308, 11)"
      ]
     },
     "execution_count": 11,
     "metadata": {},
     "output_type": "execute_result"
    }
   ],
   "source": [
    "scaled_data.shape"
   ]
  },
  {
   "cell_type": "code",
   "execution_count": 12,
   "id": "24ff16a9",
   "metadata": {},
   "outputs": [
    {
     "data": {
      "text/plain": [
       "(308, 2)"
      ]
     },
     "execution_count": 12,
     "metadata": {},
     "output_type": "execute_result"
    }
   ],
   "source": [
    "x_pca.shape"
   ]
  },
  {
   "cell_type": "code",
   "execution_count": 13,
   "id": "082e8754",
   "metadata": {},
   "outputs": [
    {
     "data": {
      "text/plain": [
       "array([[-1.70855544, -0.45093617,  2.43534589, ...,  0.07930841,\n",
       "         2.40128134, -0.82649309],\n",
       "       [-1.70855544, -0.16037479,  2.01992275, ...,  0.12542829,\n",
       "         2.16336977, -0.77615718],\n",
       "       [-1.70855544,  0.13018659,  1.56498635, ...,  0.53699806,\n",
       "         1.94614617, -0.66989249],\n",
       "       ...,\n",
       "       [ 1.66474632,  1.00187074, -1.12725465, ..., -0.98972024,\n",
       "        -0.41572953,  1.02474974],\n",
       "       [ 1.66474632,  1.29243213, -0.95745444, ..., -0.91302089,\n",
       "        -0.40883354,  0.76747732],\n",
       "       [ 1.66474632,  1.58299351, -1.0055111 , ..., -0.94786144,\n",
       "        -0.41572953,  0.40953309]])"
      ]
     },
     "execution_count": 13,
     "metadata": {},
     "output_type": "execute_result"
    }
   ],
   "source": [
    "scaled_data"
   ]
  },
  {
   "cell_type": "code",
   "execution_count": 14,
   "id": "c5b61030",
   "metadata": {},
   "outputs": [
    {
     "data": {
      "text/plain": [
       "array([[ 5.42195176,  1.12132066],\n",
       "       [ 5.37689052,  0.80617663],\n",
       "       [ 5.28329921,  0.64147019],\n",
       "       [ 5.17813177,  0.36243665],\n",
       "       [ 5.08331146, -0.24139559],\n",
       "       [ 5.00399568, -0.70483311],\n",
       "       [ 4.69067021, -0.82505858],\n",
       "       [ 4.93347654, -0.97688178],\n",
       "       [ 4.78474621, -1.68507829],\n",
       "       [ 4.84559109, -1.66959483],\n",
       "       [ 4.68946168, -0.85440393],\n",
       "       [ 4.83035341, -1.39046978],\n",
       "       [ 4.64829502, -1.36069632],\n",
       "       [ 4.85946102, -1.2743188 ],\n",
       "       [ 4.92008195, -1.27153321],\n",
       "       [ 4.74384535, -1.38539468],\n",
       "       [ 4.62517643, -1.39728774],\n",
       "       [ 4.60673519, -1.42016072],\n",
       "       [ 4.6651318 , -1.75721388],\n",
       "       [ 4.90267422, -1.87599368],\n",
       "       [ 4.31505292, -1.94678601],\n",
       "       [ 4.52358493, -1.89023062],\n",
       "       [ 4.11856881, -2.00306011],\n",
       "       [ 4.17032936, -1.99892249],\n",
       "       [ 4.08905147, -2.03433104],\n",
       "       [ 4.26965656, -1.61885934],\n",
       "       [ 4.33479938, -1.68293022],\n",
       "       [ 4.23099834, -1.6850781 ],\n",
       "       [ 4.21915402, -1.82433433],\n",
       "       [ 4.06646658, -1.68503743],\n",
       "       [ 4.14762136, -1.55606932],\n",
       "       [ 3.91953361, -1.58009971],\n",
       "       [ 3.56019176, -1.47760454],\n",
       "       [ 3.73003505, -1.52539853],\n",
       "       [ 3.63691598, -1.28569836],\n",
       "       [ 3.42505994, -1.39311419],\n",
       "       [ 3.44791999, -1.07037868],\n",
       "       [ 3.39255114, -1.12010441],\n",
       "       [ 3.53833836, -1.06776581],\n",
       "       [ 3.7251571 , -0.84048532],\n",
       "       [ 3.62681807, -0.60446778],\n",
       "       [ 3.46460192, -0.60497909],\n",
       "       [ 3.5212027 , -0.62258006],\n",
       "       [ 3.34316803, -0.45974609],\n",
       "       [ 3.06799203, -0.37991139],\n",
       "       [ 2.79685579, -0.38669547],\n",
       "       [ 3.21491623, -0.1018021 ],\n",
       "       [ 3.05988216, -0.03889293],\n",
       "       [ 2.90375202,  0.22597498],\n",
       "       [ 2.9642366 ,  0.18272532],\n",
       "       [ 2.80876083,  0.19466508],\n",
       "       [ 2.91205813,  0.26341787],\n",
       "       [ 2.81438917,  0.31453982],\n",
       "       [ 2.72349432,  0.22430653],\n",
       "       [ 2.45374596,  0.17679004],\n",
       "       [ 2.21725203,  0.2286157 ],\n",
       "       [ 2.06926679,  0.18650059],\n",
       "       [ 2.2171939 , -0.00815939],\n",
       "       [ 2.03256753, -0.24487582],\n",
       "       [ 1.97009374, -0.21073985],\n",
       "       [ 2.01103653, -0.10956765],\n",
       "       [ 2.04320362, -0.82380521],\n",
       "       [ 2.21781416, -1.23878396],\n",
       "       [ 2.19576595, -0.97190384],\n",
       "       [ 2.06491017, -0.77813014],\n",
       "       [ 2.06206113, -0.95503952],\n",
       "       [ 2.02427409, -0.82914754],\n",
       "       [ 1.76115915, -0.76826456],\n",
       "       [ 1.76082748, -0.39520318],\n",
       "       [ 1.6426817 , -0.44266903],\n",
       "       [ 1.65781208, -0.51024173],\n",
       "       [ 1.50977394, -0.18209096],\n",
       "       [ 1.49468246,  0.16929561],\n",
       "       [ 1.65239201, -0.12947544],\n",
       "       [ 1.5393005 ,  0.50270075],\n",
       "       [ 1.60871747,  0.04121152],\n",
       "       [ 1.5921578 , -0.04613539],\n",
       "       [ 1.4077194 ,  0.60291337],\n",
       "       [ 1.48622933,  0.6141779 ],\n",
       "       [ 1.16562601,  0.80545544],\n",
       "       [ 1.03305465,  0.89441621],\n",
       "       [ 0.9422201 ,  0.87063549],\n",
       "       [ 0.50761356,  1.10663512],\n",
       "       [ 0.68574605,  0.96488953],\n",
       "       [ 0.84343053,  0.73262997],\n",
       "       [ 0.93533694,  0.8766592 ],\n",
       "       [ 1.168617  ,  0.43548557],\n",
       "       [ 1.15267354,  0.23442522],\n",
       "       [ 1.03266623,  1.01878003],\n",
       "       [ 0.81381906,  0.77314413],\n",
       "       [ 0.810874  ,  0.13282806],\n",
       "       [ 0.74269799,  0.6199073 ],\n",
       "       [ 0.72256425,  0.30393901],\n",
       "       [ 0.58664228,  0.53510242],\n",
       "       [ 0.59370022,  0.77351737],\n",
       "       [ 0.19152095,  1.31941008],\n",
       "       [ 0.42848673,  0.85264884],\n",
       "       [ 0.56746965,  1.37757925],\n",
       "       [ 0.78257565,  1.89076166],\n",
       "       [ 1.23119428,  2.28541124],\n",
       "       [ 1.30500243,  3.02110948],\n",
       "       [ 1.46440658,  2.94976613],\n",
       "       [ 1.54497343,  3.83087463],\n",
       "       [ 1.55175753,  3.23774917],\n",
       "       [ 1.00438927,  4.27463367],\n",
       "       [ 1.09969256,  4.26677802],\n",
       "       [ 1.09714767,  4.51376275],\n",
       "       [ 1.20939004,  4.42439009],\n",
       "       [ 1.29834523,  4.14921493],\n",
       "       [ 1.25378059,  3.59604318],\n",
       "       [ 1.57555599,  2.8613089 ],\n",
       "       [ 1.62547609,  2.44986153],\n",
       "       [ 1.64740281,  2.40713143],\n",
       "       [ 1.56490205,  2.15889929],\n",
       "       [ 1.39067272,  2.22337412],\n",
       "       [ 1.0311628 ,  2.16847614],\n",
       "       [ 0.56858972,  2.15991432],\n",
       "       [ 0.69894624,  1.76435273],\n",
       "       [ 0.51688486,  1.93422501],\n",
       "       [ 0.65833107,  2.00958498],\n",
       "       [ 0.55377493,  2.26316336],\n",
       "       [ 0.609552  ,  1.88620412],\n",
       "       [ 0.80238691,  1.54056042],\n",
       "       [ 0.92072388,  1.42124173],\n",
       "       [ 0.96991064,  1.24536552],\n",
       "       [ 0.73660709,  1.13983339],\n",
       "       [ 0.76929269,  0.96621366],\n",
       "       [ 0.44828088,  0.90403178],\n",
       "       [ 0.25032367,  0.58641291],\n",
       "       [ 0.66413748,  0.62671868],\n",
       "       [ 0.14114455,  0.62974102],\n",
       "       [ 0.04867227,  0.58297881],\n",
       "       [ 0.04247729,  0.49570981],\n",
       "       [ 0.19505467,  0.56149536],\n",
       "       [ 0.41363877,  0.59435271],\n",
       "       [ 0.41795931,  0.5777196 ],\n",
       "       [ 0.30688554,  0.55354979],\n",
       "       [-0.03578114,  0.97561615],\n",
       "       [-0.17962859,  0.97634461],\n",
       "       [-0.14699616,  0.77615321],\n",
       "       [-0.43316319,  0.83124666],\n",
       "       [-0.59978892,  0.66655602],\n",
       "       [-0.3775672 ,  0.47605809],\n",
       "       [-0.29478987,  0.08738316],\n",
       "       [-0.19992829,  0.14852873],\n",
       "       [-0.37373079,  0.18937126],\n",
       "       [-0.22376575,  0.00569006],\n",
       "       [-0.23912403, -0.16596338],\n",
       "       [-0.14105638, -0.33167634],\n",
       "       [-0.26919961, -0.41299309],\n",
       "       [-0.37788212, -0.36849206],\n",
       "       [-0.27550409, -0.48185259],\n",
       "       [-0.25468278, -0.54657808],\n",
       "       [-0.62439502, -0.5310956 ],\n",
       "       [-0.40584176, -0.43065464],\n",
       "       [-0.26580067, -0.57942036],\n",
       "       [-0.36463508, -0.37643788],\n",
       "       [-0.29732127, -0.30091444],\n",
       "       [-0.22529458, -0.43879372],\n",
       "       [-0.18394136, -0.47070545],\n",
       "       [-0.17266981, -0.4793245 ],\n",
       "       [-0.217849  , -0.44870898],\n",
       "       [-0.17185596, -0.50720007],\n",
       "       [-0.49080833, -0.39261493],\n",
       "       [-0.5774346 , -0.46892778],\n",
       "       [-0.77396835, -0.57207534],\n",
       "       [-0.8671721 , -0.35483014],\n",
       "       [-0.80885653,  0.03198177],\n",
       "       [-0.84020815,  0.41468358],\n",
       "       [-0.88477834,  1.07286336],\n",
       "       [-0.68398341,  1.29986865],\n",
       "       [-0.66586266,  1.50401427],\n",
       "       [-0.9187912 ,  1.47511023],\n",
       "       [-1.15261465,  1.36816796],\n",
       "       [-1.10949555,  1.33674974],\n",
       "       [-1.33259647,  1.23879596],\n",
       "       [-1.31458281,  1.38413217],\n",
       "       [-1.73758427,  1.51753302],\n",
       "       [-1.40263018,  1.36203481],\n",
       "       [-1.68991781,  1.56344439],\n",
       "       [-1.65663479,  1.13215276],\n",
       "       [-1.71615678,  0.62728901],\n",
       "       [-1.75014667,  0.32238793],\n",
       "       [-1.59318078, -0.21928196],\n",
       "       [-1.27558234, -0.36824534],\n",
       "       [-1.5192853 , -0.18849837],\n",
       "       [-1.54659297, -0.46571012],\n",
       "       [-1.8166034 , -0.27593505],\n",
       "       [-1.81581861, -0.25625032],\n",
       "       [-2.02696716, -0.54235836],\n",
       "       [-1.59764849, -0.39462295],\n",
       "       [-1.66606656, -0.48196796],\n",
       "       [-1.38792929, -0.2199128 ],\n",
       "       [-1.37622055, -0.06837375],\n",
       "       [-1.34481189, -0.05961059],\n",
       "       [-1.25312288, -0.18573218],\n",
       "       [-1.41958878, -0.15670734],\n",
       "       [-1.40120517, -0.49464339],\n",
       "       [-1.45842718, -0.43478238],\n",
       "       [-1.77565319, -0.48051403],\n",
       "       [-1.7436337 , -0.14602905],\n",
       "       [-1.94205957, -0.25863396],\n",
       "       [-1.86580128, -0.3744595 ],\n",
       "       [-2.05942853,  0.11410286],\n",
       "       [-1.53852745,  0.14937921],\n",
       "       [-1.5335736 ,  0.04134805],\n",
       "       [-1.50177632,  0.13931588],\n",
       "       [-1.5870127 ,  0.56373761],\n",
       "       [-1.53247685,  0.10394099],\n",
       "       [-1.63596913,  0.47380468],\n",
       "       [-1.605623  ,  0.17230791],\n",
       "       [-1.61364539,  0.27656328],\n",
       "       [-1.98783516,  0.18547475],\n",
       "       [-1.99148886,  0.12795606],\n",
       "       [-2.34958277, -0.19720121],\n",
       "       [-2.22295002,  0.07543706],\n",
       "       [-2.03869476,  0.26791557],\n",
       "       [-1.97456119,  0.09405903],\n",
       "       [-1.96944129,  0.48433891],\n",
       "       [-1.90626258,  0.29901308],\n",
       "       [-1.82424759, -0.09683307],\n",
       "       [-1.97692608,  0.31291412],\n",
       "       [-2.21280529,  0.09112012],\n",
       "       [-2.02483299,  0.49972514],\n",
       "       [-2.62825669,  0.91798295],\n",
       "       [-2.64353927,  0.6791458 ],\n",
       "       [-2.64395694,  0.50462805],\n",
       "       [-2.27052526,  0.40612005],\n",
       "       [-2.19954757,  0.62344969],\n",
       "       [-2.20357467,  0.68997799],\n",
       "       [-2.03008619,  0.04350704],\n",
       "       [-1.86818768,  0.36667381],\n",
       "       [-1.98136724,  0.47907121],\n",
       "       [-2.02199024,  0.63843296],\n",
       "       [-2.1754084 ,  0.62165773],\n",
       "       [-2.04861422,  0.9082615 ],\n",
       "       [-2.44369233,  0.81869707],\n",
       "       [-2.35442956,  0.59409656],\n",
       "       [-2.36764706,  0.186977  ],\n",
       "       [-2.40428796, -0.10786343],\n",
       "       [-2.41003311, -0.3314501 ],\n",
       "       [-2.4082652 , -0.42257468],\n",
       "       [-2.37200526, -0.23902192],\n",
       "       [-2.29469829, -0.11837759],\n",
       "       [-2.36651907,  0.10370265],\n",
       "       [-2.4976084 , -0.58568777],\n",
       "       [-2.41695295, -0.01923418],\n",
       "       [-2.55353828, -0.07501893],\n",
       "       [-2.58229327, -0.25646993],\n",
       "       [-2.78797895, -0.25356749],\n",
       "       [-2.80392632, -0.48689424],\n",
       "       [-2.7848654 , -0.2864037 ],\n",
       "       [-2.28908538, -0.35846801],\n",
       "       [-2.23926918, -0.54719661],\n",
       "       [-2.12945001, -0.6186523 ],\n",
       "       [-2.12422681, -0.36319312],\n",
       "       [-2.21359202, -0.23160677],\n",
       "       [-2.395284  , -0.23302184],\n",
       "       [-2.6000829 , -0.1591818 ],\n",
       "       [-2.38704504, -0.15227925],\n",
       "       [-2.5457792 , -0.67312268],\n",
       "       [-2.47675267, -0.27340443],\n",
       "       [-2.79397832, -0.17119478],\n",
       "       [-2.80625905, -0.47955279],\n",
       "       [-2.59623978, -0.44716624],\n",
       "       [-2.63531077, -0.63994057],\n",
       "       [-2.56604605, -0.59152429],\n",
       "       [-2.41864247, -0.62047866],\n",
       "       [-2.52020179, -0.72737616],\n",
       "       [-2.73595302, -0.85717411],\n",
       "       [-2.72965977, -1.12459886],\n",
       "       [-2.55707815, -1.21021872],\n",
       "       [-2.59526823, -1.11354985],\n",
       "       [-2.75530318, -1.149993  ],\n",
       "       [-2.65058865, -1.3377104 ],\n",
       "       [-2.82982308, -1.37534279],\n",
       "       [-2.74740878, -0.92382508],\n",
       "       [-2.671974  , -0.68773123],\n",
       "       [-2.500945  , -0.67263834],\n",
       "       [-2.4312748 , -0.69479926],\n",
       "       [-2.40878174, -0.52385138],\n",
       "       [-2.61134742, -0.46092219],\n",
       "       [-2.57521592, -0.36649749],\n",
       "       [-2.81702877, -0.55215131],\n",
       "       [-3.15947362, -0.49118709],\n",
       "       [-3.04189639, -0.78869302],\n",
       "       [-2.96839051, -1.03577458],\n",
       "       [-3.0626597 , -1.16484152],\n",
       "       [-2.8036468 , -1.11306243],\n",
       "       [-2.70192865, -1.38263482],\n",
       "       [-2.57440196, -1.36842187],\n",
       "       [-2.50508153, -1.4219583 ],\n",
       "       [-2.71957626, -1.82543544],\n",
       "       [-2.73967981, -1.79936888],\n",
       "       [-2.61257253, -1.9226031 ],\n",
       "       [-2.60949201, -1.92478475],\n",
       "       [-2.51836856, -1.82448808],\n",
       "       [-2.71849505, -2.033276  ],\n",
       "       [-3.08625509, -2.2213092 ],\n",
       "       [-2.76782891, -1.85339353],\n",
       "       [-2.81977274, -1.54290754],\n",
       "       [-2.78083011, -1.32207695],\n",
       "       [-2.82010457, -1.38191238],\n",
       "       [-2.73014766, -1.53225561],\n",
       "       [-2.79488364, -1.69878769],\n",
       "       [-3.09594584, -1.72326237],\n",
       "       [-3.03805336, -1.63182949],\n",
       "       [-2.97674121, -1.70856996]])"
      ]
     },
     "execution_count": 14,
     "metadata": {},
     "output_type": "execute_result"
    }
   ],
   "source": [
    "x_pca"
   ]
  },
  {
   "cell_type": "code",
   "execution_count": 15,
   "id": "b0a65fbc",
   "metadata": {
    "scrolled": true
   },
   "outputs": [
    {
     "data": {
      "text/html": [
       "<div>\n",
       "<style scoped>\n",
       "    .dataframe tbody tr th:only-of-type {\n",
       "        vertical-align: middle;\n",
       "    }\n",
       "\n",
       "    .dataframe tbody tr th {\n",
       "        vertical-align: top;\n",
       "    }\n",
       "\n",
       "    .dataframe thead th {\n",
       "        text-align: right;\n",
       "    }\n",
       "</style>\n",
       "<table border=\"1\" class=\"dataframe\">\n",
       "  <thead>\n",
       "    <tr style=\"text-align: right;\">\n",
       "      <th></th>\n",
       "      <th>0</th>\n",
       "      <th>1</th>\n",
       "    </tr>\n",
       "  </thead>\n",
       "  <tbody>\n",
       "    <tr>\n",
       "      <th>0</th>\n",
       "      <td>5.421952</td>\n",
       "      <td>1.121321</td>\n",
       "    </tr>\n",
       "    <tr>\n",
       "      <th>1</th>\n",
       "      <td>5.376891</td>\n",
       "      <td>0.806177</td>\n",
       "    </tr>\n",
       "    <tr>\n",
       "      <th>2</th>\n",
       "      <td>5.283299</td>\n",
       "      <td>0.641470</td>\n",
       "    </tr>\n",
       "    <tr>\n",
       "      <th>3</th>\n",
       "      <td>5.178132</td>\n",
       "      <td>0.362437</td>\n",
       "    </tr>\n",
       "    <tr>\n",
       "      <th>4</th>\n",
       "      <td>5.083311</td>\n",
       "      <td>-0.241396</td>\n",
       "    </tr>\n",
       "    <tr>\n",
       "      <th>...</th>\n",
       "      <td>...</td>\n",
       "      <td>...</td>\n",
       "    </tr>\n",
       "    <tr>\n",
       "      <th>303</th>\n",
       "      <td>-2.730148</td>\n",
       "      <td>-1.532256</td>\n",
       "    </tr>\n",
       "    <tr>\n",
       "      <th>304</th>\n",
       "      <td>-2.794884</td>\n",
       "      <td>-1.698788</td>\n",
       "    </tr>\n",
       "    <tr>\n",
       "      <th>305</th>\n",
       "      <td>-3.095946</td>\n",
       "      <td>-1.723262</td>\n",
       "    </tr>\n",
       "    <tr>\n",
       "      <th>306</th>\n",
       "      <td>-3.038053</td>\n",
       "      <td>-1.631829</td>\n",
       "    </tr>\n",
       "    <tr>\n",
       "      <th>307</th>\n",
       "      <td>-2.976741</td>\n",
       "      <td>-1.708570</td>\n",
       "    </tr>\n",
       "  </tbody>\n",
       "</table>\n",
       "<p>308 rows × 2 columns</p>\n",
       "</div>"
      ],
      "text/plain": [
       "            0         1\n",
       "0    5.421952  1.121321\n",
       "1    5.376891  0.806177\n",
       "2    5.283299  0.641470\n",
       "3    5.178132  0.362437\n",
       "4    5.083311 -0.241396\n",
       "..        ...       ...\n",
       "303 -2.730148 -1.532256\n",
       "304 -2.794884 -1.698788\n",
       "305 -3.095946 -1.723262\n",
       "306 -3.038053 -1.631829\n",
       "307 -2.976741 -1.708570\n",
       "\n",
       "[308 rows x 2 columns]"
      ]
     },
     "execution_count": 15,
     "metadata": {},
     "output_type": "execute_result"
    }
   ],
   "source": [
    "df = pd.DataFrame(x_pca)\n",
    "df"
   ]
  },
  {
   "cell_type": "code",
   "execution_count": 16,
   "id": "8e5171fd",
   "metadata": {},
   "outputs": [
    {
     "data": {
      "text/html": [
       "<div>\n",
       "<style scoped>\n",
       "    .dataframe tbody tr th:only-of-type {\n",
       "        vertical-align: middle;\n",
       "    }\n",
       "\n",
       "    .dataframe tbody tr th {\n",
       "        vertical-align: top;\n",
       "    }\n",
       "\n",
       "    .dataframe thead th {\n",
       "        text-align: right;\n",
       "    }\n",
       "</style>\n",
       "<table border=\"1\" class=\"dataframe\">\n",
       "  <thead>\n",
       "    <tr style=\"text-align: right;\">\n",
       "      <th></th>\n",
       "      <th>V</th>\n",
       "      <th>W</th>\n",
       "    </tr>\n",
       "  </thead>\n",
       "  <tbody>\n",
       "    <tr>\n",
       "      <th>0</th>\n",
       "      <td>5.421952</td>\n",
       "      <td>1.121321</td>\n",
       "    </tr>\n",
       "    <tr>\n",
       "      <th>1</th>\n",
       "      <td>5.376891</td>\n",
       "      <td>0.806177</td>\n",
       "    </tr>\n",
       "    <tr>\n",
       "      <th>2</th>\n",
       "      <td>5.283299</td>\n",
       "      <td>0.641470</td>\n",
       "    </tr>\n",
       "    <tr>\n",
       "      <th>3</th>\n",
       "      <td>5.178132</td>\n",
       "      <td>0.362437</td>\n",
       "    </tr>\n",
       "    <tr>\n",
       "      <th>4</th>\n",
       "      <td>5.083311</td>\n",
       "      <td>-0.241396</td>\n",
       "    </tr>\n",
       "    <tr>\n",
       "      <th>...</th>\n",
       "      <td>...</td>\n",
       "      <td>...</td>\n",
       "    </tr>\n",
       "    <tr>\n",
       "      <th>303</th>\n",
       "      <td>-2.730148</td>\n",
       "      <td>-1.532256</td>\n",
       "    </tr>\n",
       "    <tr>\n",
       "      <th>304</th>\n",
       "      <td>-2.794884</td>\n",
       "      <td>-1.698788</td>\n",
       "    </tr>\n",
       "    <tr>\n",
       "      <th>305</th>\n",
       "      <td>-3.095946</td>\n",
       "      <td>-1.723262</td>\n",
       "    </tr>\n",
       "    <tr>\n",
       "      <th>306</th>\n",
       "      <td>-3.038053</td>\n",
       "      <td>-1.631829</td>\n",
       "    </tr>\n",
       "    <tr>\n",
       "      <th>307</th>\n",
       "      <td>-2.976741</td>\n",
       "      <td>-1.708570</td>\n",
       "    </tr>\n",
       "  </tbody>\n",
       "</table>\n",
       "<p>308 rows × 2 columns</p>\n",
       "</div>"
      ],
      "text/plain": [
       "            V         W\n",
       "0    5.421952  1.121321\n",
       "1    5.376891  0.806177\n",
       "2    5.283299  0.641470\n",
       "3    5.178132  0.362437\n",
       "4    5.083311 -0.241396\n",
       "..        ...       ...\n",
       "303 -2.730148 -1.532256\n",
       "304 -2.794884 -1.698788\n",
       "305 -3.095946 -1.723262\n",
       "306 -3.038053 -1.631829\n",
       "307 -2.976741 -1.708570\n",
       "\n",
       "[308 rows x 2 columns]"
      ]
     },
     "execution_count": 16,
     "metadata": {},
     "output_type": "execute_result"
    }
   ],
   "source": [
    "df2 = df.set_axis(['V', 'W'], axis=1, inplace=False)\n",
    "df2"
   ]
  },
  {
   "cell_type": "code",
   "execution_count": 17,
   "id": "e04037fc",
   "metadata": {},
   "outputs": [],
   "source": [
    "data1=df2 [[\"V\"]]\n",
    "data2=df2[[\"W\"]]"
   ]
  },
  {
   "cell_type": "code",
   "execution_count": 18,
   "id": "757d34f9",
   "metadata": {},
   "outputs": [
    {
     "data": {
      "image/png": "[encoded data removed]",
      "text/plain": [
       "<Figure size 2160x720 with 1 Axes>"
      ]
     },
     "metadata": {
      "needs_background": "light"
     },
     "output_type": "display_data"
    }
   ],
   "source": [
    "plt.figure(figsize=(30,10))\n",
    "plt.title(' Green House Gas Emission Years Between 1983-2008', fontsize=15)\n",
    "plot = sns.barplot(data1.V, data1.index, palette='viridis')\n",
    "#plt.bar_label(plot.containers[0],size=12)\n",
    "plt.show()"
   ]
  },
  {
   "cell_type": "code",
   "execution_count": 19,
   "id": "19e190ab",
   "metadata": {},
   "outputs": [
    {
     "data": {
      "image/png": "[encoded data removed]",
      "text/plain": [
       "<Figure size 2160x720 with 1 Axes>"
      ]
     },
     "metadata": {
      "needs_background": "light"
     },
     "output_type": "display_data"
    }
   ],
   "source": [
    "plt.figure(figsize=(30,10))\n",
    "plt.title('  Gas Emission Years Between 1983-2008', fontsize=15)\n",
    "plot = sns.barplot(data2.W, data1.index, palette='viridis')\n",
    "#plt.bar_label(plot.containers[0],size=12)\n",
    "plt.show()"
   ]
  },
  {
   "cell_type": "code",
   "execution_count": 20,
   "id": "f799b1d6",
   "metadata": {},
   "outputs": [
    {
     "data": {
      "text/plain": [
       "<AxesSubplot:xlabel='V', ylabel='W'>"
      ]
     },
     "execution_count": 20,
     "metadata": {},
     "output_type": "execute_result"
    },
    {
     "data": {
      "image/png": "[encoded data removed]",
      "text/plain": [
       "<Figure size 432x288 with 1 Axes>"
      ]
     },
     "metadata": {
      "needs_background": "light"
     },
     "output_type": "display_data"
    }
   ],
   "source": [
    "sns.scatterplot(x='V',y='W', data=df2)"
   ]
  },
  {
   "cell_type": "code",
   "execution_count": 24,
   "id": "1ad8693d",
   "metadata": {
    "scrolled": true
   },
   "outputs": [
    {
     "data": {
      "image/png": "[encoded data removed]",
      "text/plain": [
       "<Figure size 432x288 with 1 Axes>"
      ]
     },
     "metadata": {
      "needs_background": "light"
     },
     "output_type": "display_data"
    }
   ],
   "source": [
    "def kmeans(x, k, iterationNumber=100):\n",
    "    idx = np.random.choice(len(x), k, replace=False)\n",
    "    #Choosing centroids randomly\n",
    "    centroids = x[idx, :]\n",
    "    #Finding the distance between two data points using Euclidian distance from scipy.spatial.distance\n",
    "    distances = cdist(x, centroids, 'euclidean')\n",
    "    points = np.array([np.argmin(i) for i in distances])\n",
    "\n",
    "    for _ in range(iterationNumber):\n",
    "        centroids = []\n",
    "        for idx in range(k):\n",
    "            #Finding new centroids with taking the mean for every cluster and updating the center\n",
    "            temp_cent = x[points == idx].mean(axis=0)\n",
    "            centroids.append(temp_cent)\n",
    "        centroids = np.vstack(centroids)  \n",
    "        #New centroids\n",
    "        distances = cdist(x, centroids, 'euclidean')\n",
    "        points = np.array([np.argmin(i) for i in distances])\n",
    "    return points, centroids\n",
    "\n",
    "df2 = df.set_axis(['V', 'W'], axis=1, inplace=False)\n",
    "x = df2[['V', 'W']].to_numpy()\n",
    "\n",
    "k = 2\n",
    "points, centroids = kmeans(x, k)\n",
    "#Ploting the data\n",
    "colors = plt.cm.Set2.colors\n",
    "for val, color in zip(range(k), colors):\n",
    "    plt.scatter(centroids[val, 0], centroids[val, 1],facecolor='none', edgecolor='black', lw=3,\n",
    "                s=50, label=f'centroid {val}')\n",
    "for val, color in zip(range(k), colors):\n",
    "    plt.scatter(x[points == val, 0], x[points == val, 1], color=color, label=f'set {val}')\n",
    "plt.legend(ncol=2)\n",
    "plt.show()"
   ]
  },
  {
   "cell_type": "code",
   "execution_count": 40,
   "id": "118812ce",
   "metadata": {},
   "outputs": [],
   "source": [
    "X=gh[['CO2','CH4']]\n",
    "y=gh['Aerosols']"
   ]
  },
  {
   "cell_type": "code",
   "execution_count": 41,
   "id": "96dd5334",
   "metadata": {},
   "outputs": [],
   "source": [
    "from sklearn.model_selection import train_test_split"
   ]
  },
  {
   "cell_type": "code",
   "execution_count": 42,
   "id": "0152e463",
   "metadata": {},
   "outputs": [],
   "source": [
    "X_train, X_test, y_train, y_test = train_test_split(X,y,test_size=0.2)"
   ]
  },
  {
   "cell_type": "code",
   "execution_count": 43,
   "id": "f73a64cd",
   "metadata": {},
   "outputs": [
    {
     "data": {
      "text/plain": [
       "246"
      ]
     },
     "execution_count": 43,
     "metadata": {},
     "output_type": "execute_result"
    }
   ],
   "source": [
    "len(X_train)"
   ]
  },
  {
   "cell_type": "code",
   "execution_count": 44,
   "id": "386e3d23",
   "metadata": {},
   "outputs": [
    {
     "data": {
      "text/plain": [
       "62"
      ]
     },
     "execution_count": 44,
     "metadata": {},
     "output_type": "execute_result"
    }
   ],
   "source": [
    "len(X_test)\n",
    "#it choosess this dataset randomly"
   ]
  },
  {
   "cell_type": "code",
   "execution_count": 45,
   "id": "0f3db3a3",
   "metadata": {},
   "outputs": [
    {
     "data": {
      "text/plain": [
       "308"
      ]
     },
     "execution_count": 45,
     "metadata": {},
     "output_type": "execute_result"
    }
   ],
   "source": [
    "len(X)"
   ]
  },
  {
   "cell_type": "code",
   "execution_count": 46,
   "id": "be9ab313",
   "metadata": {},
   "outputs": [],
   "source": [
    "from sklearn.linear_model import LinearRegression\n",
    "clf=LinearRegression()"
   ]
  },
  {
   "cell_type": "code",
   "execution_count": 47,
   "id": "0c34372f",
   "metadata": {},
   "outputs": [
    {
     "data": {
      "text/plain": [
       "LinearRegression()"
      ]
     },
     "execution_count": 47,
     "metadata": {},
     "output_type": "execute_result"
    }
   ],
   "source": [
    "clf.fit(X_train, y_train)"
   ]
  },
  {
   "cell_type": "code",
   "execution_count": 48,
   "id": "bfe3a4e8",
   "metadata": {},
   "outputs": [
    {
     "data": {
      "text/plain": [
       "array([ 0.0102348 ,  0.03262017,  0.02516139,  0.02559497, -0.00033681,\n",
       "        0.02305053,  0.00660047,  0.01959804,  0.02225307,  0.02496578,\n",
       "        0.01951191,  0.02443204,  0.01228266, -0.00043711,  0.00411679,\n",
       "        0.01390554,  0.02338031,  0.00766887,  0.02073179,  0.02833356,\n",
       "        0.02017106,  0.0298304 ,  0.00130929,  0.0079205 , -0.00317782,\n",
       "        0.00165111,  0.02884335,  0.02214648,  0.01794157,  0.01056547,\n",
       "        0.00475323,  0.00499603,  0.02217821,  0.02885318,  0.02999654,\n",
       "        0.0093109 ,  0.02471651,  0.02318872,  0.01184407,  0.02219044,\n",
       "        0.02517804,  0.0121803 ,  0.00053942,  0.01314567,  0.02440968,\n",
       "        0.00994774,  0.01094407,  0.02384347,  0.02572994,  0.02699865,\n",
       "        0.01503232,  0.02366371,  0.0090135 ,  0.02405671,  0.00285767,\n",
       "       -0.00282571,  0.02497489,  0.03002631,  0.02314745,  0.01630721,\n",
       "       -0.00034595,  0.02214293,  0.01702989,  0.00069093,  0.02580336,\n",
       "        0.02560969,  0.01129625,  0.00511522,  0.01264176,  0.02215977,\n",
       "       -0.00178482,  0.00362663,  0.00970692, -0.00241859,  0.02191924,\n",
       "        0.02454084,  0.02395835,  0.02271529,  0.01225445,  0.01729225,\n",
       "        0.02723584,  0.02411113,  0.02603052, -0.00380651,  0.00701934,\n",
       "        0.03188131,  0.01958912,  0.00603523,  0.01943035,  0.01427895,\n",
       "        0.02717717,  0.02986832,  0.02050982,  0.01530148,  0.02902291,\n",
       "       -0.00431885,  0.01375529,  0.02580179,  0.02181101,  0.02163584,\n",
       "        0.01646973,  0.00238563,  0.0108147 ,  0.01479009,  0.01441731,\n",
       "       -0.00503963,  0.0271204 ,  0.02459309,  0.03058653,  0.00169455,\n",
       "        0.02742011,  0.02106988,  0.01578722,  0.00523894,  0.00674536,\n",
       "        0.0113967 ,  0.0194748 , -0.00132759,  0.02673112,  0.02831532,\n",
       "        0.02094462,  0.02189182,  0.00187669,  0.01249576,  0.00735044,\n",
       "        0.02901256,  0.02164874, -0.00061798,  0.01209374,  0.01073051,\n",
       "        0.0008929 ,  0.0154532 , -0.00539498,  0.01685795,  0.02580866,\n",
       "        0.03015087,  0.02910628,  0.02035037,  0.02539402,  0.00871642,\n",
       "        0.01162854,  0.01720777,  0.02480696,  0.01653497,  0.02377905,\n",
       "        0.01641574,  0.0198431 ,  0.0058535 ,  0.00373676, -0.0018195 ,\n",
       "        0.02468866,  0.00938642,  0.02407054,  0.0110228 ,  0.03110344,\n",
       "        0.0284444 ,  0.02504619,  0.02458763,  0.00275231,  0.02620558,\n",
       "        0.0231981 ,  0.02035238,  0.02619856,  0.00932413,  0.00192631,\n",
       "       -0.00410094,  0.0141487 ,  0.02730488, -0.00361493,  0.02509266,\n",
       "        0.02091814,  0.01840801,  0.02723148,  0.01739788, -0.00112429,\n",
       "        0.0202682 ,  0.00289598,  0.01980693,  0.02259116,  0.0060443 ,\n",
       "        0.03104704,  0.00034403,  0.01635227,  0.01522525,  0.01774058,\n",
       "        0.03052484,  0.01257181,  0.02626779,  0.01384742,  0.01871926,\n",
       "        0.02543555,  0.02756742,  0.02738047,  0.00519571,  0.0215775 ,\n",
       "        0.00538953,  0.02319139,  0.0190756 ,  0.02536363,  0.02828839,\n",
       "        0.01867014,  0.02673676,  0.01250874,  0.02257389,  0.028625  ,\n",
       "        0.02671344, -0.00312056,  0.00890315,  0.02718811,  0.01833801,\n",
       "        0.028916  ,  0.00686618,  0.0007346 ,  0.003083  ,  0.02949734,\n",
       "        0.02295141,  0.01463132,  0.00010974,  0.03362454,  0.02521124,\n",
       "        0.02267644,  0.02441893,  0.02343469,  0.01136182,  0.00999084,\n",
       "       -0.00193856,  0.02659229,  0.01031152,  0.01763038,  0.03218045,\n",
       "        0.00958781,  0.02710351,  0.00689382,  0.0316767 ,  0.01835278,\n",
       "       -0.00210306,  0.01887755,  0.00845326,  0.02012217,  0.01548307,\n",
       "        0.02709818,  0.02717092,  0.0328614 , -0.00056846,  0.02146598,\n",
       "        0.02979521])"
      ]
     },
     "execution_count": 48,
     "metadata": {},
     "output_type": "execute_result"
    }
   ],
   "source": [
    "clf.predict(X_train)"
   ]
  },
  {
   "cell_type": "code",
   "execution_count": 49,
   "id": "de08970c",
   "metadata": {},
   "outputs": [
    {
     "data": {
      "text/plain": [
       "35     0.0147\n",
       "111    0.1141\n",
       "165    0.0057\n",
       "277    0.0033\n",
       "134    0.0179\n",
       "        ...  \n",
       "163    0.0061\n",
       "98     0.0377\n",
       "14     0.0282\n",
       "219    0.0021\n",
       "150    0.0086\n",
       "Name: Aerosols, Length: 62, dtype: float64"
      ]
     },
     "execution_count": 49,
     "metadata": {},
     "output_type": "execute_result"
    }
   ],
   "source": [
    "y_test"
   ]
  },
  {
   "cell_type": "code",
   "execution_count": 50,
   "id": "c710e089",
   "metadata": {},
   "outputs": [
    {
     "data": {
      "text/plain": [
       "0.1861245931312987"
      ]
     },
     "execution_count": 50,
     "metadata": {},
     "output_type": "execute_result"
    }
   ],
   "source": [
    "clf.score(X_test,y_test)"
   ]
  },
  {
   "cell_type": "code",
   "execution_count": null,
   "id": "af2ddca5",
   "metadata": {},
   "outputs": [],
   "source": []
  }
 ],
 "metadata": {
  "kernelspec": {
   "display_name": "Python 3",
   "language": "python",
   "name": "python3"
  },
  "language_info": {
   "codemirror_mode": {
    "name": "ipython",
    "version": 3
   },
   "file_extension": ".py",
   "mimetype": "text/x-python",
   "name": "python",
   "nbconvert_exporter": "python",
   "pygments_lexer": "ipython3",
   "version": "3.8.8"
  }
 },
 "nbformat": 4,
 "nbformat_minor": 5
}
