{
 "cells": [
  {
   "cell_type": "code",
   "execution_count": 1,
   "id": "26087929",
   "metadata": {},
   "outputs": [
    {
     "data": {
      "text/html": [
       "<div>\n",
       "<style scoped>\n",
       "    .dataframe tbody tr th:only-of-type {\n",
       "        vertical-align: middle;\n",
       "    }\n",
       "\n",
       "    .dataframe tbody tr th {\n",
       "        vertical-align: top;\n",
       "    }\n",
       "\n",
       "    .dataframe thead th {\n",
       "        text-align: right;\n",
       "    }\n",
       "</style>\n",
       "<table border=\"1\" class=\"dataframe\">\n",
       "  <thead>\n",
       "    <tr style=\"text-align: right;\">\n",
       "      <th></th>\n",
       "      <th>dt</th>\n",
       "      <th>AverageTemperature</th>\n",
       "      <th>AverageTemperatureUncertainty</th>\n",
       "      <th>City</th>\n",
       "      <th>Country</th>\n",
       "      <th>Latitude</th>\n",
       "      <th>Longitude</th>\n",
       "    </tr>\n",
       "  </thead>\n",
       "  <tbody>\n",
       "    <tr>\n",
       "      <th>0</th>\n",
       "      <td>1743-11-01</td>\n",
       "      <td>6.068</td>\n",
       "      <td>1.737</td>\n",
       "      <td>Århus</td>\n",
       "      <td>Denmark</td>\n",
       "      <td>57.05N</td>\n",
       "      <td>10.33E</td>\n",
       "    </tr>\n",
       "    <tr>\n",
       "      <th>1</th>\n",
       "      <td>1743-12-01</td>\n",
       "      <td>NaN</td>\n",
       "      <td>NaN</td>\n",
       "      <td>Århus</td>\n",
       "      <td>Denmark</td>\n",
       "      <td>57.05N</td>\n",
       "      <td>10.33E</td>\n",
       "    </tr>\n",
       "    <tr>\n",
       "      <th>2</th>\n",
       "      <td>1744-01-01</td>\n",
       "      <td>NaN</td>\n",
       "      <td>NaN</td>\n",
       "      <td>Århus</td>\n",
       "      <td>Denmark</td>\n",
       "      <td>57.05N</td>\n",
       "      <td>10.33E</td>\n",
       "    </tr>\n",
       "    <tr>\n",
       "      <th>3</th>\n",
       "      <td>1744-02-01</td>\n",
       "      <td>NaN</td>\n",
       "      <td>NaN</td>\n",
       "      <td>Århus</td>\n",
       "      <td>Denmark</td>\n",
       "      <td>57.05N</td>\n",
       "      <td>10.33E</td>\n",
       "    </tr>\n",
       "    <tr>\n",
       "      <th>4</th>\n",
       "      <td>1744-03-01</td>\n",
       "      <td>NaN</td>\n",
       "      <td>NaN</td>\n",
       "      <td>Århus</td>\n",
       "      <td>Denmark</td>\n",
       "      <td>57.05N</td>\n",
       "      <td>10.33E</td>\n",
       "    </tr>\n",
       "  </tbody>\n",
       "</table>\n",
       "</div>"
      ],
      "text/plain": [
       "           dt  AverageTemperature  AverageTemperatureUncertainty   City  \\\n",
       "0  1743-11-01               6.068                          1.737  Århus   \n",
       "1  1743-12-01                 NaN                            NaN  Århus   \n",
       "2  1744-01-01                 NaN                            NaN  Århus   \n",
       "3  1744-02-01                 NaN                            NaN  Århus   \n",
       "4  1744-03-01                 NaN                            NaN  Århus   \n",
       "\n",
       "   Country Latitude Longitude  \n",
       "0  Denmark   57.05N    10.33E  \n",
       "1  Denmark   57.05N    10.33E  \n",
       "2  Denmark   57.05N    10.33E  \n",
       "3  Denmark   57.05N    10.33E  \n",
       "4  Denmark   57.05N    10.33E  "
      ]
     },
     "execution_count": 1,
     "metadata": {},
     "output_type": "execute_result"
    }
   ],
   "source": [
    "import numpy as np \n",
    "import pandas as pd\n",
    "import seaborn as sns\n",
    "import matplotlib.pyplot as plt\n",
    "import warnings\n",
    "warnings.filterwarnings(\"ignore\")\n",
    "from sklearn.linear_model import LinearRegression\n",
    "import time\n",
    "df=pd.read_csv('C:/Users/samet/Desktop/GlobalLandTemperaturesByCity.csv' )\n",
    "df.head()"
   ]
  },
  {
   "cell_type": "code",
   "execution_count": 2,
   "id": "b707a1bc",
   "metadata": {},
   "outputs": [
    {
     "data": {
      "text/plain": [
       "DatetimeIndex(['1743-11-01', '1744-04-01', '1744-05-01', '1744-06-01',\n",
       "               '1744-07-01', '1744-09-01', '1744-10-01', '1744-11-01',\n",
       "               '1744-12-01', '1745-01-01',\n",
       "               ...\n",
       "               '2012-11-01', '2012-12-01', '2013-01-01', '2013-02-01',\n",
       "               '2013-03-01', '2013-04-01', '2013-05-01', '2013-06-01',\n",
       "               '2013-07-01', '2013-08-01'],\n",
       "              dtype='datetime64[ns]', name='Date', length=8235082, freq=None)"
      ]
     },
     "execution_count": 2,
     "metadata": {},
     "output_type": "execute_result"
    }
   ],
   "source": [
    "df1= df.dropna().copy()\n",
    "df1.rename(columns={'dt':'Date'},inplace=True)\n",
    "df1['Date']=pd.to_datetime(df1['Date'])\n",
    "df1.set_index('Date',inplace=True)\n",
    "df1.index\n"
   ]
  },
  {
   "cell_type": "code",
   "execution_count": 3,
   "id": "344346e5",
   "metadata": {},
   "outputs": [
    {
     "data": {
      "text/html": [
       "<div>\n",
       "<style scoped>\n",
       "    .dataframe tbody tr th:only-of-type {\n",
       "        vertical-align: middle;\n",
       "    }\n",
       "\n",
       "    .dataframe tbody tr th {\n",
       "        vertical-align: top;\n",
       "    }\n",
       "\n",
       "    .dataframe thead th {\n",
       "        text-align: right;\n",
       "    }\n",
       "</style>\n",
       "<table border=\"1\" class=\"dataframe\">\n",
       "  <thead>\n",
       "    <tr style=\"text-align: right;\">\n",
       "      <th></th>\n",
       "      <th>AverageTemperature</th>\n",
       "      <th>AverageTemperatureUncertainty</th>\n",
       "      <th>City</th>\n",
       "      <th>Country</th>\n",
       "      <th>Latitude</th>\n",
       "      <th>Longitude</th>\n",
       "      <th>Year</th>\n",
       "    </tr>\n",
       "    <tr>\n",
       "      <th>Date</th>\n",
       "      <th></th>\n",
       "      <th></th>\n",
       "      <th></th>\n",
       "      <th></th>\n",
       "      <th></th>\n",
       "      <th></th>\n",
       "      <th></th>\n",
       "    </tr>\n",
       "  </thead>\n",
       "  <tbody>\n",
       "    <tr>\n",
       "      <th>1743-11-01</th>\n",
       "      <td>6.068000</td>\n",
       "      <td>1.737000</td>\n",
       "      <td>Århus</td>\n",
       "      <td>Denmark</td>\n",
       "      <td>57.05N</td>\n",
       "      <td>10.33E</td>\n",
       "      <td>1743</td>\n",
       "    </tr>\n",
       "    <tr>\n",
       "      <th>1744-04-01</th>\n",
       "      <td>5.788000</td>\n",
       "      <td>3.624000</td>\n",
       "      <td>Århus</td>\n",
       "      <td>Denmark</td>\n",
       "      <td>57.05N</td>\n",
       "      <td>10.33E</td>\n",
       "      <td>1744</td>\n",
       "    </tr>\n",
       "    <tr>\n",
       "      <th>1744-05-01</th>\n",
       "      <td>10.644000</td>\n",
       "      <td>1.283000</td>\n",
       "      <td>Århus</td>\n",
       "      <td>Denmark</td>\n",
       "      <td>57.05N</td>\n",
       "      <td>10.33E</td>\n",
       "      <td>1744</td>\n",
       "    </tr>\n",
       "    <tr>\n",
       "      <th>1744-06-01</th>\n",
       "      <td>14.051000</td>\n",
       "      <td>1.347000</td>\n",
       "      <td>Århus</td>\n",
       "      <td>Denmark</td>\n",
       "      <td>57.05N</td>\n",
       "      <td>10.33E</td>\n",
       "      <td>1744</td>\n",
       "    </tr>\n",
       "    <tr>\n",
       "      <th>1744-07-01</th>\n",
       "      <td>16.082000</td>\n",
       "      <td>1.396000</td>\n",
       "      <td>Århus</td>\n",
       "      <td>Denmark</td>\n",
       "      <td>57.05N</td>\n",
       "      <td>10.33E</td>\n",
       "      <td>1744</td>\n",
       "    </tr>\n",
       "  </tbody>\n",
       "</table>\n",
       "</div>"
      ],
      "text/plain": [
       "            AverageTemperature  AverageTemperatureUncertainty   City  Country  \\\n",
       "Date                                                                            \n",
       "1743-11-01            6.068000                       1.737000  Århus  Denmark   \n",
       "1744-04-01            5.788000                       3.624000  Århus  Denmark   \n",
       "1744-05-01           10.644000                       1.283000  Århus  Denmark   \n",
       "1744-06-01           14.051000                       1.347000  Århus  Denmark   \n",
       "1744-07-01           16.082000                       1.396000  Århus  Denmark   \n",
       "\n",
       "           Latitude Longitude  Year  \n",
       "Date                                 \n",
       "1743-11-01   57.05N    10.33E  1743  \n",
       "1744-04-01   57.05N    10.33E  1744  \n",
       "1744-05-01   57.05N    10.33E  1744  \n",
       "1744-06-01   57.05N    10.33E  1744  \n",
       "1744-07-01   57.05N    10.33E  1744  "
      ]
     },
     "execution_count": 3,
     "metadata": {},
     "output_type": "execute_result"
    }
   ],
   "source": [
    "df1.describe()\n",
    "pd.set_option('float_format', '{:f}'.format)\n",
    "df1['Year']= df1.index.year\n",
    "df1.head()"
   ]
  },
  {
   "cell_type": "code",
   "execution_count": 4,
   "id": "9a211760",
   "metadata": {},
   "outputs": [],
   "source": [
    "df= df.dropna().copy()"
   ]
  },
  {
   "cell_type": "code",
   "execution_count": 5,
   "id": "ccaabf63",
   "metadata": {},
   "outputs": [],
   "source": [
    "turkey_country=df[df.Country==\"Turkey\"]\n",
    "turkey_country[\"Year\"] = pd.DatetimeIndex(turkey_country['dt']).year\n",
    "\n"
   ]
  },
  {
   "cell_type": "code",
   "execution_count": 6,
   "id": "6dfaf9cb",
   "metadata": {},
   "outputs": [
    {
     "data": {
      "image/png": "[encoded data removed]",
      "text/plain": [
       "<Figure size 1080x288 with 1 Axes>"
      ]
     },
     "metadata": {
      "needs_background": "light"
     },
     "output_type": "display_data"
    }
   ],
   "source": [
    "#Average Temperature in Turkey 1950-2013\n",
    "a1950=turkey_country[turkey_country.Year>=1950]\n",
    "plt.figure(figsize=(15, 4))\n",
    "plt.subplot(121)\n",
    "sns.lineplot(x = a1950[\"Year\"], y = a1950[\"AverageTemperature\"])\n",
    "plt.title(\"Average Temp and Year\")\n",
    "plt.xlabel(\"Year\")\n",
    "plt.ylabel(\"Average Temp\")\n",
    "plt.xticks(rotation = 45)\n",
    "\n",
    "plt.show()"
   ]
  },
  {
   "cell_type": "code",
   "execution_count": 7,
   "id": "0e01bd9e",
   "metadata": {},
   "outputs": [],
   "source": [
    "Ankara=df1[df1.City==\"Ankara\"]\n",
    "Ankara1950=Ankara[Ankara.Year>=1950]"
   ]
  },
  {
   "cell_type": "code",
   "execution_count": 8,
   "id": "cad59cbe",
   "metadata": {},
   "outputs": [],
   "source": [
    "from sklearn import linear_model, metrics"
   ]
  },
  {
   "cell_type": "code",
   "execution_count": 9,
   "id": "6fdacfff",
   "metadata": {},
   "outputs": [
    {
     "data": {
      "text/plain": [
       "Index(['AverageTemperature', 'AverageTemperatureUncertainty', 'City',\n",
       "       'Country', 'Latitude', 'Longitude', 'Year'],\n",
       "      dtype='object')"
      ]
     },
     "execution_count": 9,
     "metadata": {},
     "output_type": "execute_result"
    }
   ],
   "source": [
    "#Ankara1950's columns\n",
    "Ankara1950.columns"
   ]
  },
  {
   "cell_type": "code",
   "execution_count": 10,
   "id": "bc36b229",
   "metadata": {},
   "outputs": [],
   "source": [
    "\n",
    "X=Ankara1950[['Year']]\n",
    "Y=Ankara1950[[\"AverageTemperature\"]]"
   ]
  },
  {
   "cell_type": "code",
   "execution_count": 11,
   "id": "c4c27b06",
   "metadata": {},
   "outputs": [],
   "source": [
    "#Test size choosen, random state choosen and predict begin here.\n",
    "from sklearn.model_selection import train_test_split\n",
    "\n",
    "X_train, X_test, Y_train, Y_test = train_test_split(X,Y,test_size=0.3, random_state=100)"
   ]
  },
  {
   "cell_type": "code",
   "execution_count": 12,
   "id": "0ece9d0f",
   "metadata": {},
   "outputs": [
    {
     "data": {
      "text/plain": [
       "(764, 7)"
      ]
     },
     "execution_count": 12,
     "metadata": {},
     "output_type": "execute_result"
    }
   ],
   "source": [
    "Ankara1950.shape"
   ]
  },
  {
   "cell_type": "code",
   "execution_count": 13,
   "id": "57c75540",
   "metadata": {},
   "outputs": [],
   "source": [
    "lm=linear_model.LinearRegression()"
   ]
  },
  {
   "cell_type": "code",
   "execution_count": 14,
   "id": "373273e6",
   "metadata": {},
   "outputs": [
    {
     "name": "stdout",
     "output_type": "stream",
     "text": [
      "            Year\n",
      "Date            \n",
      "1962-12-01  1962\n",
      "1962-07-01  1962\n",
      "1956-07-01  1956\n",
      "1950-10-01  1950\n",
      "1961-11-01  1961\n",
      "...          ...\n",
      "1998-03-01  1998\n",
      "1954-06-01  1954\n",
      "1979-03-01  1979\n",
      "1956-08-01  1956\n",
      "1993-05-01  1993\n",
      "\n",
      "[534 rows x 1 columns]\n",
      "            AverageTemperature\n",
      "Date                          \n",
      "1962-12-01            4.045000\n",
      "1962-07-01           22.921000\n",
      "1956-07-01           21.472000\n",
      "1950-10-01           10.028000\n",
      "1961-11-01            7.425000\n",
      "...                        ...\n",
      "1998-03-01            3.154000\n",
      "1954-06-01           19.740000\n",
      "1979-03-01            7.357000\n",
      "1956-08-01           23.072000\n",
      "1993-05-01           13.693000\n",
      "\n",
      "[534 rows x 1 columns]\n"
     ]
    }
   ],
   "source": [
    "print(X_train)\n",
    "print(Y_train)"
   ]
  },
  {
   "cell_type": "code",
   "execution_count": 15,
   "id": "f776de7b",
   "metadata": {},
   "outputs": [],
   "source": [
    "#linear regression using here.\n",
    "model= lm.fit(X_train,Y_train)"
   ]
  },
  {
   "cell_type": "code",
   "execution_count": 16,
   "id": "d6e5c0fe",
   "metadata": {},
   "outputs": [],
   "source": [
    "r_aq=lm.score(X_train,Y_train)"
   ]
  },
  {
   "cell_type": "code",
   "execution_count": 17,
   "id": "ad4b8267",
   "metadata": {},
   "outputs": [
    {
     "name": "stdout",
     "output_type": "stream",
     "text": [
      "0.0018865000975872848\n"
     ]
    }
   ],
   "source": [
    "print(r_aq)"
   ]
  },
  {
   "cell_type": "code",
   "execution_count": 18,
   "id": "0d1568c1",
   "metadata": {},
   "outputs": [
    {
     "name": "stdout",
     "output_type": "stream",
     "text": [
      "[-27.00817936]\n"
     ]
    }
   ],
   "source": [
    "print(model.intercept_)"
   ]
  },
  {
   "cell_type": "code",
   "execution_count": 19,
   "id": "c35347e6",
   "metadata": {},
   "outputs": [
    {
     "name": "stdout",
     "output_type": "stream",
     "text": [
      "[[0.01918303]]\n"
     ]
    }
   ],
   "source": [
    "print(model.coef_)"
   ]
  },
  {
   "cell_type": "code",
   "execution_count": 20,
   "id": "909db97f",
   "metadata": {},
   "outputs": [
    {
     "name": "stdout",
     "output_type": "stream",
     "text": [
      "Date\n",
      "1950-01-01   10.398720\n",
      "1950-02-01   10.398720\n",
      "1950-03-01   10.398720\n",
      "1950-04-01   10.398720\n",
      "1950-05-01   10.398720\n",
      "                ...   \n",
      "2013-04-01   11.607250\n",
      "2013-05-01   11.607250\n",
      "2013-06-01   11.607250\n",
      "2013-07-01   11.607250\n",
      "2013-08-01   11.607250\n",
      "Length: 764, dtype: float64\n"
     ]
    }
   ],
   "source": [
    "#Y_pred=model.predict(X_test)\n",
    "Y_pred=model.intercept_ + np.sum(model.coef_ * X, axis=1)\n",
    "print(Y_pred)\n",
    "#Predicted values given here. Actual values are higher than that."
   ]
  },
  {
   "cell_type": "code",
   "execution_count": 21,
   "id": "0cdf47fe",
   "metadata": {},
   "outputs": [
    {
     "data": {
      "image/png": "[encoded data removed]",
      "text/plain": [
       "<Figure size 432x288 with 1 Axes>"
      ]
     },
     "metadata": {
      "needs_background": "light"
     },
     "output_type": "display_data"
    }
   ],
   "source": [
    "\n",
    "plt.scatter(X_train,Y_train)\n",
    "plt.plot(X_train,lm.predict(X_train))\n",
    "plt.xlabel(\"Year\")\n",
    "plt.ylabel(\"Temperature\")\n",
    "plt.show()\n"
   ]
  },
  {
   "cell_type": "code",
   "execution_count": 22,
   "id": "89826a9d",
   "metadata": {},
   "outputs": [
    {
     "data": {
      "image/png": "[encoded data removed]",
      "text/plain": [
       "<Figure size 432x288 with 1 Axes>"
      ]
     },
     "metadata": {
      "needs_background": "light"
     },
     "output_type": "display_data"
    }
   ],
   "source": [
    "\n",
    "plt.scatter(X_test,Y_test)\n",
    "plt.plot(X_test,lm.predict(X_test))\n",
    "plt.xlabel(\"Year\")\n",
    "plt.ylabel(\"Temperature\")\n",
    "plt.show()\n",
    "#Reaching higher temperature values, close to the data obtained by temperature estimation,\n",
    "#can also be associated with an increasing trend in temperature."
   ]
  },
  {
   "cell_type": "code",
   "execution_count": null,
   "id": "5c581bb2",
   "metadata": {},
   "outputs": [],
   "source": []
  }
 ],
 "metadata": {
  "kernelspec": {
   "display_name": "Python 3",
   "language": "python",
   "name": "python3"
  },
  "language_info": {
   "codemirror_mode": {
    "name": "ipython",
    "version": 3
   },
   "file_extension": ".py",
   "mimetype": "text/x-python",
   "name": "python",
   "nbconvert_exporter": "python",
   "pygments_lexer": "ipython3",
   "version": "3.8.8"
  }
 },
 "nbformat": 4,
 "nbformat_minor": 5
}
